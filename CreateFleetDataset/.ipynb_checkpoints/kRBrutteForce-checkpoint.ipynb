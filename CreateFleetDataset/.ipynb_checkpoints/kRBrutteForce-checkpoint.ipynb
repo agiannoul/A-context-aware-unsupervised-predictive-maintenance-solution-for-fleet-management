{
 "cells": [
  {
   "cell_type": "code",
   "execution_count": 1,
   "id": "d3329ecb",
   "metadata": {},
   "outputs": [
    {
     "name": "stdout",
     "output_type": "stream",
     "text": [
      "100\n"
     ]
    }
   ],
   "source": [
    "import pandas as pd\n",
    "import numpy as np\n",
    "import matplotlib.pyplot as plt\n",
    "import os\n",
    "from os import listdir\n",
    "from os.path import isfile, join, dirname\n",
    "data_path=\"./f0001/\"\n",
    "files_csv = sorted([ join(data_path, f) for f in listdir(data_path) if isfile(join(data_path, f)) ])\n",
    "file_count = len(files_csv)\n",
    "# create empty list\n",
    "dataframes_list = []\n",
    " \n",
    "# append datasets to the list\n",
    "endes=[]\n",
    "names=[]\n",
    "for i in range(file_count):\n",
    "    temp_df = pd.read_csv(files_csv[i])\n",
    "    names.append(files_csv[i])\n",
    "    temp_df['Artficial_timestamp']=pd.to_datetime(temp_df['Artficial_timestamp'])\n",
    "    temp_df=temp_df.set_index('Artficial_timestamp')\n",
    "    dataframes_list.append(temp_df)\n",
    "    \n",
    "print(len(dataframes_list))\n",
    "#dataframes_list[0].head()\n",
    "\n"
   ]
  },
  {
   "cell_type": "code",
   "execution_count": 2,
   "id": "99c6b4e1",
   "metadata": {},
   "outputs": [],
   "source": [
    "def normalize(dfs, with_mean=True, with_std=True):\n",
    "        if with_mean:\n",
    "            dfs = [df - df.mean() for df in dfs]\n",
    "\n",
    "        if with_std:\n",
    "            stds = [df.std() for df in dfs]\n",
    "            for std in stds: std[std==0] = 1\n",
    "            dfs = [df / std for df, std in zip(dfs, stds)]\n",
    "\n",
    "        return dfs"
   ]
  },
  {
   "cell_type": "code",
   "execution_count": 34,
   "id": "f71f3069",
   "metadata": {},
   "outputs": [],
   "source": [
    "######## PARAMETERS #############\n",
    "filename=\"f0001\"\n",
    "shiftdays=10\n",
    "window=20\n",
    "k=30\n",
    "R=13\n",
    "normalized=False\n",
    "###############################"
   ]
  },
  {
   "cell_type": "code",
   "execution_count": 35,
   "id": "51d20bcf",
   "metadata": {},
   "outputs": [],
   "source": [
    "if normalized:\n",
    "    dataframes_list=normalize(dataframes_list, with_mean=True, with_std=True)"
   ]
  },
  {
   "cell_type": "code",
   "execution_count": 36,
   "id": "437fc76c",
   "metadata": {
    "scrolled": true
   },
   "outputs": [
    {
     "name": "stdout",
     "output_type": "stream",
     "text": [
      "475\n",
      "500\n",
      "500\n",
      "500\n",
      "500\n",
      "500\n",
      "500\n",
      "505\n",
      "551\n",
      "952\n",
      "1366\n",
      "1622\n",
      "1902\n",
      "1978\n",
      "1960\n",
      "1925\n",
      "1888\n",
      "1852\n",
      "1806\n",
      "1742\n",
      "1680\n",
      "1627\n",
      "1586\n",
      "1551\n",
      "1500\n",
      "1415\n",
      "1312\n",
      "1200\n",
      "1059\n",
      "907\n",
      "745\n",
      "586\n",
      "460\n",
      "365\n",
      "302\n",
      "251\n",
      "211\n",
      "174\n",
      "124\n",
      "91\n",
      "77\n",
      "66\n",
      "58\n",
      "48\n",
      "40\n"
     ]
    }
   ],
   "source": [
    "import datetime as dtime\n",
    "from datetime import datetime\n",
    "import numpy as np\n",
    "from sklearn.neighbors import KDTree\n",
    "from grand.utils import NoRefGroupError\n",
    "from scipy.stats import norm\n",
    "from math import sqrt\n",
    "from sklearn.neighbors import NearestNeighbors\n",
    "\n",
    "\n",
    "\n",
    "\n",
    "#f0001 12,9 is good\n",
    "#f0002 20,15 \n",
    "\n",
    "numberOfwindows=int(450/shiftdays)\n",
    "#start=\n",
    "outliers=[ [] for i in range(len(dataframes_list))]\n",
    "\n",
    "for w in range(numberOfwindows):\n",
    "    start = datetime.strptime(\"2000-01-01 00:00:00\", \"%Y-%m-%d %H:%M:%S\") + dtime.timedelta(days=w*shiftdays)\n",
    "    end = start + dtime.timedelta(days=window)\n",
    "    windowdf=dataframes_list[0][start:end]\n",
    "    for i in range(1,len(dataframes_list)):\n",
    "        windowdf=windowdf.append(dataframes_list[i][start:end])\n",
    "    X=windowdf.to_numpy()\n",
    "    knn = NearestNeighbors(n_neighbors=k, algorithm='auto')\n",
    "    knn.fit(X)\n",
    "    print(len(X))\n",
    "    for i in range(len(dataframes_list)):\n",
    "        currentindex=dataframes_list[i][start:end]\n",
    "        for q in range(len(currentindex.index)):\n",
    "            dists,iindexes=knn.kneighbors([currentindex.iloc[q].to_numpy()], k+1, return_distance=True)\n",
    "            if R<dists[-1][-1]:\n",
    "                #print(\"ID: \"+str(i)+\" \"+str(currentindex.iloc[q].name))\n",
    "                outliers[i].append(currentindex.iloc[q].name)"
   ]
  },
  {
   "cell_type": "code",
   "execution_count": 39,
   "id": "73ae17ae",
   "metadata": {},
   "outputs": [],
   "source": [
    "%matplotlib qt\n",
    "f002 =[155, 247, 102, 89, 62, 9, 209, 221, 190, 87, 116, 18, 110, 98, 150, 10, 35, 41, 65, 34, 21, 196, 144, 245, 143]\n",
    "f001 =[32, 15, 50, 68, 24, 16, 59, 13, 47, 49, 74, 58, 44, 41]\n",
    "f003 =[98, 88, 6, 61, 8, 90, 25, 87, 74, 29, 62, 17, 22, 63, 7, 65, 77]\n",
    "f004 =[111, 48, 107, 34, 1, 47, 204, 157, 46, 196, 67, 162, 25, 63, 172, 223, 176, 17, 187, 100, 82, 2, 136, 20, 139, 221, 195, 105, 179, 96, 220]\n",
    "indexesforgrand=f001\n",
    "Ph=30\n",
    "\n",
    "\n",
    "tp=0\n",
    "fp=0\n",
    "fn=0\n",
    "ccc=0\n",
    "for i in indexesforgrand:\n",
    "    # plot\n",
    "    ccc+=1\n",
    "    tempdf=dataframes_list[i]\n",
    "    outs=outliers[i]\n",
    "    outs.sort()\n",
    "    x = np.array(outs)\n",
    "    outsfinal=np.unique(x)\n",
    "    dubleouts=[]\n",
    "    for ooo in x:\n",
    "        if outs.count(ooo)>1:\n",
    "            dubleouts.append(ooo)\n",
    "    plt.plot(tempdf.index, [ccc for q in range(len(tempdf.index))],\"-b\")\n",
    "    plt.plot(outsfinal, [ccc for q in range(len(outsfinal))],\"r.\")\n",
    "    plt.plot(dubleouts, [ccc for q in range(len(dubleouts))],\"y.\")\n",
    "\n",
    "    finalDate=tempdf.index[-1]\n",
    "    #print(tempdf.index[-1])\n",
    "    #score\n",
    "\n"
   ]
  },
  {
   "cell_type": "code",
   "execution_count": 38,
   "id": "2192b714",
   "metadata": {
    "scrolled": true
   },
   "outputs": [
    {
     "data": {
      "text/plain": [
       "<matplotlib.legend.Legend at 0x7fb72abcbbb0>"
      ]
     },
     "execution_count": 38,
     "metadata": {},
     "output_type": "execute_result"
    }
   ],
   "source": [
    "%matplotlib qt\n",
    "#f002 [155, 247, 102, 89, 62, 9, 209, 221, 190, 87, 116, 18, 110, 98, 150, 10, 35, 41, 65, 34, 21, 196, 144, 245, 143]\n",
    "#f001 [32, 15, 50, 68, 24, 16, 59, 13, 47, 49, 74, 58, 44, 41]\n",
    "#f003 [98, 88, 6, 61, 8, 90, 25, 87, 74, 29, 62, 17, 22, 63, 7, 65, 77]\n",
    "#f004 [111, 48, 107, 34, 1, 47, 204, 157, 46, 196, 67, 162, 25, 63, 172, 223, 176, 17, 187, 100, 82, 2, 136, 20, 139, 221, 195, 105, 179, 96, 220]\n",
    "\n",
    "ccc=0\n",
    "PhRange=[i* 5 for i in range(1,14)]\n",
    "\n",
    "F1=[]\n",
    "PR=[]\n",
    "RE=[]\n",
    "for PH in PhRange:\n",
    "    tp=0\n",
    "    fp=0\n",
    "    fn=0\n",
    "    for i in indexesforgrand:\n",
    "        # plot\n",
    "        ccc+=1\n",
    "        tempdf=dataframes_list[i]\n",
    "        outs=outliers[i]\n",
    "        outs.sort()\n",
    "        x = np.array(outs)\n",
    "        outsfinal=np.unique(x)\n",
    "        dubleouts=[]\n",
    "        \n",
    "        ##### SOS #####\n",
    "        # PAIRNW TA DIPLA\n",
    "        for ooo in x:\n",
    "            if outs.count(ooo)>1:\n",
    "                dubleouts.append(ooo)\n",
    "        outsfinal=dubleouts\n",
    "        finalDate=tempdf.index[-1]\n",
    "        #print(tempdf.index[-1])\n",
    "        #score\n",
    "        for oo in outsfinal:\n",
    "            if (finalDate-oo).days <PH:\n",
    "                tp+=1\n",
    "            else:\n",
    "                fp+=1\n",
    "        for d in tempdf.index:\n",
    "            if (finalDate-d).days <PH and d not in outsfinal:\n",
    "                fn+=1\n",
    "    #print(tp)\n",
    "    #print(fp)\n",
    "    #print(fn)\n",
    "    precision=tp/(tp+fp)\n",
    "    recall=tp/(tp+fn)\n",
    "    f1=2*(precision*recall)/(precision+recall)\n",
    "    F1.append(f1)\n",
    "    PR.append(precision)\n",
    "    RE.append(recall)\n",
    "\n",
    "\n",
    "plt.plot(PhRange, F1,label=\"F1\")\n",
    "plt.plot(PhRange, PR,label=\"Prec\")\n",
    "plt.plot(PhRange, RE,label=\"Rec\")\n",
    "plt.legend()"
   ]
  },
  {
   "cell_type": "markdown",
   "id": "90b32cd5",
   "metadata": {},
   "source": [
    "## "
   ]
  },
  {
   "cell_type": "code",
   "execution_count": 61,
   "id": "01594cd0",
   "metadata": {},
   "outputs": [
    {
     "data": {
      "text/plain": [
       "<matplotlib.legend.Legend at 0x262bf05b0a0>"
      ]
     },
     "execution_count": 61,
     "metadata": {},
     "output_type": "execute_result"
    }
   ],
   "source": [
    "#DynF1=[0.21490467937608315, 0.37158469945355194, 0.492526690391459, 0.5759368836291913, 0.6434250764525994, 0.700228832951945, 0.725500812127775, 0.7548717948717949, 0.7655408712677435, 0.7646782527007986, 0.755092802172929, 0.7490178961152335, 0.743362831858407]\n",
    "Grand=[0.16265452179570591, 0.3008423586040914, 0.41745942921096807, 0.5010460251046026, 0.5665193912616593, 0.608695652173913, 0.6418889374726717, 0.6691542288557214, 0.6905794245171462, 0.7009767092411721, 0.703265159669896, 0.7005494505494506, 0.6947645702996378]\n",
    "#plt.plot(PhRange, DynF1,label=\"DynF1\")\n",
    "plt.plot(PhRange, F1,label=\"F1\")\n",
    "plt.plot(PhRange, Grand,label=\"Grand\")\n",
    "plt.legend()"
   ]
  },
  {
   "cell_type": "code",
   "execution_count": null,
   "id": "0e102b10",
   "metadata": {},
   "outputs": [],
   "source": []
  }
 ],
 "metadata": {
  "kernelspec": {
   "display_name": "Python 3 (ipykernel)",
   "language": "python",
   "name": "python3"
  },
  "language_info": {
   "codemirror_mode": {
    "name": "ipython",
    "version": 3
   },
   "file_extension": ".py",
   "mimetype": "text/x-python",
   "name": "python",
   "nbconvert_exporter": "python",
   "pygments_lexer": "ipython3",
   "version": "3.9.7"
  }
 },
 "nbformat": 4,
 "nbformat_minor": 5
}
